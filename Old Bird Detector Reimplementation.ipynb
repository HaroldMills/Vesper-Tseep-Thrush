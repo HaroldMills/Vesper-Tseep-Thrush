{
 "cells": [
  {
   "cell_type": "code",
   "execution_count": 1,
   "metadata": {
    "collapsed": false
   },
   "outputs": [],
   "source": [
    "import matplotlib.pyplot as plt\n",
    "import numpy as np\n",
    "import scipy.signal as signal\n",
    "\n",
    "%matplotlib inline"
   ]
  },
  {
   "cell_type": "markdown",
   "metadata": {},
   "source": [
    "# Preliminaries."
   ]
  },
  {
   "cell_type": "code",
   "execution_count": 2,
   "metadata": {
    "collapsed": false
   },
   "outputs": [],
   "source": [
    "fs = 22050.\n",
    "fs2 = fs / 2.\n",
    "duration = 1.\n",
    "noise_amplitude = 1.\n",
    "signal_amplitude = 30000.\n",
    "\n",
    "def plot(x):\n",
    "    plt.figure(figsize=(15, 4))\n",
    "    indices = np.arange(len(x))\n",
    "    plt.plot(indices, x)\n",
    "    plt.show()\n",
    "    \n",
    "class Bunch:\n",
    "    \n",
    "    def __init__(self, *args, **kwargs):\n",
    "        for arg in args:\n",
    "            self.__dict__.update(arg.__dict__)\n",
    "        self.__dict__.update(kwargs)\n",
    "        \n",
    "    def __eq__(self, other):\n",
    "        if not isinstance(other, Bunch):\n",
    "            return False\n",
    "        else:\n",
    "            return self.__dict__ == other.__dict__\n",
    "        \n",
    "_SAMPLE_RATE = 22050.\n",
    "_NOISE_AMPLITUDE = 2.\n",
    "\n",
    "_SIMPLE_NOISE_BURST_SETTINGS = Bunch(\n",
    "    sample_rate=_SAMPLE_RATE,\n",
    "    noise_amplitude=_NOISE_AMPLITUDE,\n",
    "    duration=4.,\n",
    "    burst_amplitude=30000.,\n",
    "    first_burst_start_time=1.,\n",
    "    burst_period=1.,\n",
    "    burst_durations=(.1, .1, .1)\n",
    ")\n",
    "\n",
    "_INCREASING_DURATION_NOISE_BURST_SETTINGS = Bunch(\n",
    "    sample_rate=_SAMPLE_RATE,\n",
    "    noise_amplitude=_NOISE_AMPLITUDE,\n",
    "    duration=32.,\n",
    "    burst_amplitude=30000.,\n",
    "    first_burst_start_time=2.,\n",
    "    burst_period=2.,\n",
    "    burst_durations=.05 * np.arange(1, 16)\n",
    ")\n",
    "\n",
    "_INTEGRATION_TIME_IMPULSE_SETTINGS = Bunch(\n",
    "    sample_rate=_SAMPLE_RATE,\n",
    "    noise_amplitude=_NOISE_AMPLITUDE,\n",
    "    duration=2.,\n",
    "    first_impulse_time=1.,\n",
    "    first_impulse_amplitude=1000.,\n",
    "    second_impulse_offset=1800,\n",
    "    second_impulse_amplitude=30000.\n",
    ")\n",
    "\n",
    "_IMPULSE_SETTINGS = Bunch(\n",
    "    sample_rate=_SAMPLE_RATE,\n",
    "    noise_amplitude=_NOISE_AMPLITUDE,\n",
    "    duration=4.,\n",
    "    impulse_amplitude=30000.,\n",
    "    impulse_times=[1, 2, 3]\n",
    ")\n",
    "\n",
    "_SENTINEL_SETTINGS = Bunch(\n",
    "    sample_rate=_SAMPLE_RATE,\n",
    "    noise_amplitude=_NOISE_AMPLITUDE,\n",
    "    duration=10.,\n",
    "    sentinel_amplitude=30000.,\n",
    "    sentinel_start_offset=8.,\n",
    "    sentinel_duration=.25,\n",
    "    sentinel_length=10\n",
    ")\n",
    "\n",
    "_DETECTOR_SETTINGS = Bunch(\n",
    "    sample_rate=_SAMPLE_RATE,\n",
    "    f0=6000,\n",
    "    f1=10000,\n",
    "    bw=100,\n",
    "    filter_length=99,\n",
    "    integration_length=2000,\n",
    "    delay=.020,\n",
    "    threshold=2.,\n",
    "    min_duration=.100,\n",
    "    max_duration=.400,\n",
    "    start_offset=-560,\n",
    "    padding=3000\n",
    ")\n",
    "\n",
    "def _create_test_signal(signal_generator, settings):\n",
    "\n",
    "    s = settings\n",
    "        \n",
    "    np.random.seed(0)\n",
    "\n",
    "    # generate background noise\n",
    "    length = int(round(s.duration * s.sample_rate))\n",
    "    samples = _create_noise(length, s.noise_amplitude)\n",
    "    \n",
    "    # append sentinel\n",
    "    samples = _append_sentinel(samples, _SENTINEL_SETTINGS)\n",
    "        \n",
    "    # invoke signal generator\n",
    "    samples = signal_generator(samples, settings)\n",
    "    \n",
    "    return np.array(samples, dtype=np.dtype('<i2'))\n",
    "\n",
    "\n",
    "def _create_noise(length, amplitude=1):\n",
    "    a = 2 * amplitude\n",
    "    b = -amplitude\n",
    "    return a * np.random.random(length) + b\n",
    "\n",
    "\n",
    "def _append_sentinel(samples, settings):\n",
    "    \n",
    "    s = settings\n",
    "    \n",
    "    # create background noise\n",
    "    length = int(round(s.duration * s.sample_rate))\n",
    "    sentinel = _create_noise(length, s.noise_amplitude)\n",
    "    \n",
    "    # add transient whose first ten samples are 30000\n",
    "    i = int(round(s.sentinel_start_offset * s.sample_rate))\n",
    "    n = int(round(s.sentinel_duration * s.sample_rate))\n",
    "    sentinel[i:i + n] =_create_noise(n, s.sentinel_amplitude)\n",
    "    sentinel[i:i + s.sentinel_length] = s.sentinel_amplitude\n",
    "    \n",
    "    return np.concatenate((samples, sentinel))\n",
    "    \n",
    "\n",
    "def _add_noise_bursts(samples, settings):\n",
    "    \n",
    "    s = settings\n",
    "    \n",
    "    amplitude = s.burst_amplitude\n",
    "    \n",
    "    for i, duration in enumerate(s.burst_durations):\n",
    "        \n",
    "        start_time = s.first_burst_start_time + i * s.burst_period\n",
    "        end_time = start_time + duration\n",
    "        \n",
    "        start_index = int(round(start_time * s.sample_rate))\n",
    "        end_index = int(round(end_time * s.sample_rate))\n",
    "        length = end_index - start_index\n",
    "        \n",
    "        samples[start_index:end_index] = _create_noise(length, amplitude)\n",
    "        \n",
    "    return samples\n",
    "        \n",
    "        \n",
    "def _add_impulses(samples, settings):\n",
    "    \n",
    "    s = settings\n",
    "    \n",
    "    for time in s.impulse_times:\n",
    "        index = int(round(time * s.sample_rate))\n",
    "        samples[index] = s.impulse_amplitude\n",
    "\n",
    "    return samples\n",
    "\n",
    "\n",
    "def _add_integration_time_impulses(samples, settings):\n",
    "    \n",
    "    s = settings\n",
    "    \n",
    "    index = int(round(s.first_impulse_time * s.sample_rate))\n",
    "    samples[index] = s.first_impulse_amplitude\n",
    "    \n",
    "    index += s.second_impulse_offset\n",
    "    samples[index] = s.second_impulse_amplitude\n",
    "\n",
    "    return samples\n",
    "\n",
    "\n",
    "def _create_integration_time_test_signal():\n",
    "    \n",
    "    s = Bunch(\n",
    "        sample_rate=_SAMPLE_RATE,\n",
    "        initial_noise_amplitude=200,\n",
    "        final_noise_amplitude=100,\n",
    "        noise_ramp_length=10000,\n",
    "        duration=3,\n",
    "        impulse_time=2,\n",
    "        impulse_amplitude=2531 # tripping point\n",
    "    )\n",
    "\n",
    "    np.random.seed(0)\n",
    "    \n",
    "    # Find signal event indices.\n",
    "    impulse_index = int(round(s.impulse_time * s.sample_rate))\n",
    "    noise_ramp_start_index = impulse_index - s.noise_ramp_length\n",
    "    \n",
    "    # Generate constant amplitude background noise.\n",
    "    length = int(round(s.duration * s.sample_rate))\n",
    "    samples = _create_noise(length, s.initial_noise_amplitude)\n",
    "    \n",
    "    # Shape noise amplitude.\n",
    "    length = impulse_index - noise_ramp_start_index\n",
    "    ramp = np.arange(length) / float(length)\n",
    "    ratio = s.final_noise_amplitude / s.initial_noise_amplitude\n",
    "    samples[noise_ramp_start_index:impulse_index] *= 1 + ramp * (ratio - 1)\n",
    "    samples[impulse_index:] *= ratio\n",
    "    \n",
    "    # Add impulse.\n",
    "    samples[impulse_index] = s.impulse_amplitude\n",
    "    \n",
    "    # append sentinel\n",
    "    samples = _append_sentinel(samples, _SENTINEL_SETTINGS)\n",
    "    \n",
    "    return np.array(samples, dtype=np.dtype('<i2'))"
   ]
  },
  {
   "cell_type": "markdown",
   "metadata": {},
   "source": [
    "# Plot integration time test signal."
   ]
  },
  {
   "cell_type": "code",
   "execution_count": 3,
   "metadata": {
    "collapsed": false
   },
   "outputs": [
    {
     "data": {
      "image/png": "[encoded data removed]",
      "text/plain": [
       "<matplotlib.figure.Figure at 0x1345ec9a358>"
      ]
     },
     "metadata": {},
     "output_type": "display_data"
    }
   ],
   "source": [
    "x = _create_integration_time_test_signal()\n",
    "plot(x)"
   ]
  },
  {
   "cell_type": "markdown",
   "metadata": {},
   "source": [
    "# Create test signal."
   ]
  },
  {
   "cell_type": "code",
   "execution_count": 4,
   "metadata": {
    "collapsed": false
   },
   "outputs": [
    {
     "data": {
      "image/png": "[encoded data removed]",
      "text/plain": [
       "<matplotlib.figure.Figure at 0x1345f0009e8>"
      ]
     },
     "metadata": {},
     "output_type": "display_data"
    }
   ],
   "source": [
    "# n = round(duration * fs)\n",
    "# np.random.seed(0)\n",
    "# x = noise_amplitude * (-1 + 2 * np.random.random(n))\n",
    "# # ranges = [(.2, .3), (.5, .6), (.8, .9)]\n",
    "# # for start, end in ranges:\n",
    "# #     s = round(start * fs)\n",
    "# #     e = round(end * fs)\n",
    "# #     x[s:e] *= signal_amplitude / noise_amplitude\n",
    "# times = [.2, .5, .8]\n",
    "# for t in times:\n",
    "#     i = round(t * fs)\n",
    "#     x[i] = 30000\n",
    "# plot(x)\n",
    "# sound = x\n",
    "\n",
    "# x = _create_test_signal(_add_noise_bursts, _SIMPLE_NOISE_BURST_SETTINGS)\n",
    "# x = _create_test_signal(_add_noise_bursts, _INCREASING_DURATION_NOISE_BURST_SETTINGS)\n",
    "x = _create_test_signal(_add_integration_time_impulses, _INTEGRATION_TIME_IMPULSE_SETTINGS)\n",
    "# x = _create_test_signal(_add_impulses, _IMPULSE_SETTINGS)\n",
    "plot(x)\n",
    "sound = x"
   ]
  },
  {
   "cell_type": "markdown",
   "metadata": {},
   "source": [
    "# Design filter."
   ]
  },
  {
   "cell_type": "code",
   "execution_count": 5,
   "metadata": {
    "collapsed": false
   },
   "outputs": [
    {
     "data": {
      "image/png": "[encoded data removed]",
      "text/plain": [
       "<matplotlib.figure.Figure at 0x1345f0432b0>"
      ]
     },
     "metadata": {},
     "output_type": "display_data"
    }
   ],
   "source": [
    "# Design filter.\n",
    "filter_length = 99\n",
    "f0 = 6000\n",
    "f1 = 10000\n",
    "bw = 100\n",
    "bands = np.array([0, f0 - bw, f0, f1, f1 + bw, fs2]) / fs2\n",
    "desired = np.array([0, 0, 1, 1, 0, 0])\n",
    "coeffs = signal.firls(filter_length, bands, desired)\n",
    "\n",
    "# Get frequency response.\n",
    "w, h = signal.freqz(coeffs)\n",
    "w *= fs / (2 * np.pi)\n",
    "\n",
    "\n",
    "# Plot frequency response.\n",
    "\n",
    "figure = plt.figure(figsize=(15, 4))\n",
    "plt.title('Filter Frequency Response')\n",
    "\n",
    "ax1 = figure.add_subplot(111)\n",
    "plt.plot(w, 20 * np.log10(abs(h)), 'b')\n",
    "plt.ylabel('Amplitude (dB)', color='b')\n",
    "plt.xlabel('Frequency (Hz)')\n",
    "\n",
    "ax2 = ax1.twinx()\n",
    "angles = np.unwrap(np.angle(h))\n",
    "plt.plot(w, angles, 'g')\n",
    "plt.ylabel('Angle (radians)', color='g')\n",
    "\n",
    "plt.grid()\n",
    "plt.axis('tight')\n",
    "plt.show()"
   ]
  },
  {
   "cell_type": "markdown",
   "metadata": {},
   "source": [
    "# Apply filter."
   ]
  },
  {
   "cell_type": "code",
   "execution_count": 6,
   "metadata": {
    "collapsed": false
   },
   "outputs": [
    {
     "data": {
      "image/png": "[encoded data removed]",
      "text/plain": [
       "<matplotlib.figure.Figure at 0x1345f290a20>"
      ]
     },
     "metadata": {},
     "output_type": "display_data"
    }
   ],
   "source": [
    "x = signal.fftconvolve(x, coeffs)\n",
    "plot(x)"
   ]
  },
  {
   "cell_type": "markdown",
   "metadata": {},
   "source": [
    "# Take magnitude squared."
   ]
  },
  {
   "cell_type": "code",
   "execution_count": 7,
   "metadata": {
    "collapsed": false
   },
   "outputs": [
    {
     "data": {
      "image/png": "[encoded data removed]",
      "text/plain": [
       "<matplotlib.figure.Figure at 0x1345f2489e8>"
      ]
     },
     "metadata": {},
     "output_type": "display_data"
    }
   ],
   "source": [
    "x = x * x\n",
    "plot(x)"
   ]
  },
  {
   "cell_type": "markdown",
   "metadata": {},
   "source": [
    "# Integrate."
   ]
  },
  {
   "cell_type": "code",
   "execution_count": 8,
   "metadata": {
    "collapsed": false
   },
   "outputs": [
    {
     "data": {
      "image/png": "[encoded data removed]",
      "text/plain": [
       "<matplotlib.figure.Figure at 0x1345f25efd0>"
      ]
     },
     "metadata": {},
     "output_type": "display_data"
    }
   ],
   "source": [
    "integration_length = 2000\n",
    "x = np.cumsum(x)\n",
    "x = (x[integration_length:] - x[:-integration_length]) / integration_length\n",
    "plt.figure(figsize=(15, 4))\n",
    "indices = np.arange(len(x))\n",
    "plt.plot(indices, x)\n",
    "#plt.xlim([20000, 20200])\n",
    "plt.xlim([19000, 22000])\n",
    "plt.ylim([0, 200000])\n",
    "plt.show()"
   ]
  },
  {
   "cell_type": "markdown",
   "metadata": {},
   "source": [
    "# Take ratios."
   ]
  },
  {
   "cell_type": "code",
   "execution_count": 9,
   "metadata": {
    "collapsed": false
   },
   "outputs": [
    {
     "data": {
      "image/png": "[encoded data removed]",
      "text/plain": [
       "<matplotlib.figure.Figure at 0x13463299080>"
      ]
     },
     "metadata": {},
     "output_type": "display_data"
    }
   ],
   "source": [
    "DELAY = .020\n",
    "THRESHOLD = 2\n",
    "\n",
    "delay = round(DELAY * fs)\n",
    "threshold = THRESHOLD\n",
    "\n",
    "x = x[delay:] / x[:-delay]\n",
    "plt.figure(figsize=(15, 4))\n",
    "indices = np.arange(len(x))\n",
    "plt.plot(indices, x)\n",
    "plt.xlim([19000, 22000])\n",
    "plt.ylim([0, 3])\n",
    "plt.axhline(threshold, color='r')\n",
    "plt.axhline(1. / threshold, color='r')\n",
    "plt.show()"
   ]
  },
  {
   "cell_type": "markdown",
   "metadata": {},
   "source": [
    "# Compare ratios to threshold."
   ]
  },
  {
   "cell_type": "code",
   "execution_count": 10,
   "metadata": {
    "collapsed": false
   },
   "outputs": [
    {
     "data": {
      "image/png": "[encoded data removed]",
      "text/plain": [
       "<matplotlib.figure.Figure at 0x134632a2b70>"
      ]
     },
     "metadata": {},
     "output_type": "display_data"
    }
   ],
   "source": [
    "xx = np.zeros(len(x))\n",
    "xx[x > threshold] = 1\n",
    "xx[x < 1. / threshold] = -2\n",
    "x = xx\n",
    "plot(x)"
   ]
  },
  {
   "cell_type": "markdown",
   "metadata": {},
   "source": [
    "# Find outward-going threshold crossing events."
   ]
  },
  {
   "cell_type": "code",
   "execution_count": 11,
   "metadata": {
    "collapsed": false
   },
   "outputs": [
    {
     "data": {
      "image/png": "[encoded data removed]",
      "text/plain": [
       "<matplotlib.figure.Figure at 0x13463ab59e8>"
      ]
     },
     "metadata": {},
     "output_type": "display_data"
    }
   ],
   "source": [
    "x = x[1:] - x[:-1]\n",
    "plot(x)"
   ]
  },
  {
   "cell_type": "code",
   "execution_count": 12,
   "metadata": {
    "collapsed": false
   },
   "outputs": [
    {
     "name": "stdout",
     "output_type": "stream",
     "text": [
      "[ 19617  21417 218058 218944]\n",
      "[ 23457 225221 225236]\n"
     ]
    }
   ],
   "source": [
    "rises = np.where(x == 1)[0]\n",
    "falls = np.where(x == -2)[0]\n",
    "print(rises)\n",
    "print(falls)"
   ]
  },
  {
   "cell_type": "code",
   "execution_count": 13,
   "metadata": {
    "collapsed": false
   },
   "outputs": [
    {
     "name": "stdout",
     "output_type": "stream",
     "text": [
      "[(19617, True), (21417, True), (23457, False), (218058, True), (218944, True), (225221, False), (225236, False)]\n"
     ]
    }
   ],
   "source": [
    "events = sorted([(r, True) for r in rises] + [(f, False) for f in falls])\n",
    "print(events)"
   ]
  },
  {
   "cell_type": "markdown",
   "metadata": {},
   "source": [
    "# Parse crossing events into detection pulses."
   ]
  },
  {
   "cell_type": "code",
   "execution_count": 14,
   "metadata": {
    "collapsed": false
   },
   "outputs": [
    {
     "name": "stdout",
     "output_type": "stream",
     "text": [
      "emit (19617, 3840)\n",
      "emit (218058, 7163)\n"
     ]
    },
    {
     "data": {
      "image/png": "[encoded data removed]",
      "text/plain": [
       "<matplotlib.figure.Figure at 0x1345f027ac8>"
      ]
     },
     "metadata": {},
     "output_type": "display_data"
    }
   ],
   "source": [
    "MIN_DURATION = .100\n",
    "MAX_DURATION = .400\n",
    "LAG = 3000\n",
    "DELAY = -560\n",
    "\n",
    "STATE_DOWN = 0\n",
    "STATE_UP = 1\n",
    "STATE_HOLDING = 2\n",
    "\n",
    "def emit_pulses(events):\n",
    "    \n",
    "    min_length = round(MIN_DURATION * fs)\n",
    "    max_length = round(MAX_DURATION * fs)\n",
    "\n",
    "    state = STATE_DOWN\n",
    "\n",
    "    start_index = 0\n",
    "    \"\"\"index of start of current pulse.\"\"\"\n",
    "\n",
    "    for index, rise in events:\n",
    "\n",
    "        if state == STATE_DOWN:\n",
    "\n",
    "            if rise:\n",
    "                # rise while down\n",
    "\n",
    "                # Start new pulse.\n",
    "                start_index = index\n",
    "                state = STATE_UP\n",
    "\n",
    "            # Do nothing for fall while down.\n",
    "\n",
    "        elif state == STATE_UP:\n",
    "\n",
    "            if rise:\n",
    "                # rise while up\n",
    "\n",
    "                if index > start_index + max_length:\n",
    "                    # rise after end of maximal pulse\n",
    "\n",
    "                    # Emit maximal pulse.\n",
    "                    emit_pulse(start_index, max_length)\n",
    "\n",
    "                    # Start new pulse.\n",
    "                    start_index = index\n",
    "\n",
    "                # Do nothing for rise before end of maximal pulse.\n",
    "\n",
    "            else:\n",
    "                # fall while up\n",
    "\n",
    "                if index < start_index + min_length:\n",
    "                    # fall before end of minimal pulse\n",
    "\n",
    "                    state = STATE_HOLDING\n",
    "\n",
    "                else:\n",
    "                    # fall at or after end of minimal pulse\n",
    "\n",
    "                    length = index - start_index\n",
    "\n",
    "                    # Truncate pulse if after end of maximal pulse.\n",
    "                    if length > max_length:\n",
    "                        length = max_length\n",
    "\n",
    "                    emit_pulse(start_index, length)\n",
    "                    state = STATE_DOWN\n",
    "\n",
    "        else:\n",
    "            # holding short pulse\n",
    "\n",
    "            if rise:\n",
    "                # rise while holding short pulse\n",
    "\n",
    "                if index > start_index + min_length:\n",
    "                    # rise after end of minimal pulse\n",
    "\n",
    "                    # Emit minimal pulse.\n",
    "                    emit_pulse(start_index, min_length)\n",
    "\n",
    "                    # Start new pulse.\n",
    "                    start_index = index\n",
    "                    state = STATE_UP\n",
    "\n",
    "                # Do nothing for rise at or before end of minimal pulse.\n",
    "\n",
    "            else:\n",
    "                # fall while holding short pulse\n",
    "\n",
    "                if index >= start_index + min_length:\n",
    "                    # fall at or after end of minimal pulse\n",
    "\n",
    "                    # Emit minimal pulse.\n",
    "                    emit_pulse(start_index, min_length)\n",
    "\n",
    "                    state = STATE_DOWN\n",
    "\n",
    "                # Do nothing for fall before end of minimal pulse.\n",
    "\n",
    "intervals = []\n",
    "\n",
    "def emit_pulse(start_index, length):\n",
    "    start = start_index + DELAY\n",
    "    end = start + length + LAG\n",
    "    intervals.append((start, end))\n",
    "    print('emit ({}, {})'.format(start_index, length))\n",
    "    \n",
    "emit_pulses(events)\n",
    "\n",
    "plt.figure(figsize=(15, 4))\n",
    "indices = np.arange(len(sound))\n",
    "plt.plot(indices, sound)\n",
    "for start, end in intervals:\n",
    "    plt.axvspan(start, end, color='red', alpha=0.5)\n",
    "plt.show()"
   ]
  }
 ],
 "metadata": {
  "anaconda-cloud": {},
  "kernelspec": {
   "display_name": "Python [conda root]",
   "language": "python",
   "name": "conda-root-py"
  },
  "language_info": {
   "codemirror_mode": {
    "name": "ipython",
    "version": 3
   },
   "file_extension": ".py",
   "mimetype": "text/x-python",
   "name": "python",
   "nbconvert_exporter": "python",
   "pygments_lexer": "ipython3",
   "version": "3.5.2"
  }
 },
 "nbformat": 4,
 "nbformat_minor": 1
}
